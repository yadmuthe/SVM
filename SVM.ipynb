{
 "cells": [
  {
   "cell_type": "markdown",
   "id": "3f7955de",
   "metadata": {},
   "source": [
    "# SVM"
   ]
  },
  {
   "cell_type": "code",
   "execution_count": 1,
   "id": "97c87040",
   "metadata": {},
   "outputs": [],
   "source": [
    "import pandas as pd\n",
    "from sklearn import datasets\n",
    "from sklearn.model_selection import train_test_split\n",
    "from sklearn import svm\n",
    "from sklearn.metrics import accuracy_score"
   ]
  },
  {
   "cell_type": "code",
   "execution_count": 2,
   "id": "b10fa147",
   "metadata": {},
   "outputs": [],
   "source": [
    "iris = datasets.load_iris()"
   ]
  },
  {
   "cell_type": "code",
   "execution_count": 3,
   "id": "77faf0c7",
   "metadata": {},
   "outputs": [],
   "source": [
    "X = iris.data\n",
    "y = iris.target"
   ]
  },
  {
   "cell_type": "code",
   "execution_count": 4,
   "id": "d0ace6d6",
   "metadata": {},
   "outputs": [
    {
     "data": {
      "text/plain": [
       "(150, 4)"
      ]
     },
     "execution_count": 4,
     "metadata": {},
     "output_type": "execute_result"
    }
   ],
   "source": [
    "X.shape"
   ]
  },
  {
   "cell_type": "code",
   "execution_count": 5,
   "id": "fe70693a",
   "metadata": {},
   "outputs": [
    {
     "data": {
      "text/plain": [
       "(150,)"
      ]
     },
     "execution_count": 5,
     "metadata": {},
     "output_type": "execute_result"
    }
   ],
   "source": [
    "y.shape"
   ]
  },
  {
   "cell_type": "code",
   "execution_count": 6,
   "id": "753a440a",
   "metadata": {},
   "outputs": [],
   "source": [
    "classes = ['Iris Setosa','Iris Verginica', 'Iris Versicolor']"
   ]
  },
  {
   "cell_type": "code",
   "execution_count": 8,
   "id": "e4ccdd88",
   "metadata": {},
   "outputs": [
    {
     "name": "stdout",
     "output_type": "stream",
     "text": [
      "SVC()\n"
     ]
    }
   ],
   "source": [
    "X_train,X_test,y_train,y_test = train_test_split(X,y, test_size = 0.2)\n",
    "\n",
    "model = svm.SVC()\n",
    "model.fit(X_train,y_train)\n",
    "\n",
    "print(model)"
   ]
  },
  {
   "cell_type": "code",
   "execution_count": 10,
   "id": "2c738a36",
   "metadata": {},
   "outputs": [],
   "source": [
    "predictions= model.predict(X_test)\n",
    "acc = accuracy_score(y_test, predictions)"
   ]
  },
  {
   "cell_type": "code",
   "execution_count": 11,
   "id": "a4cf7515",
   "metadata": {},
   "outputs": [
    {
     "name": "stdout",
     "output_type": "stream",
     "text": [
      "pred :  [1 1 0 1 0 1 0 2 1 0 0 2 1 1 2 1 2 2 0 0 0 0 1 0 1 0 1 0 2 1]\n",
      "accuracy :  0.9666666666666667\n"
     ]
    }
   ],
   "source": [
    "print('pred : ',predictions)\n",
    "print('accuracy : ',acc)"
   ]
  },
  {
   "cell_type": "code",
   "execution_count": 12,
   "id": "220b3f7d",
   "metadata": {},
   "outputs": [
    {
     "name": "stdout",
     "output_type": "stream",
     "text": [
      "pred :  [1 1 0 1 0 1 0 2 1 0 0 2 1 1 2 1 2 2 0 0 0 0 1 0 1 0 1 0 2 1]\n",
      "Actual :  [1 1 0 1 0 1 0 1 1 0 0 2 1 1 2 1 2 2 0 0 0 0 1 0 1 0 1 0 2 1]\n",
      "accuracy :  0.9666666666666667\n"
     ]
    }
   ],
   "source": [
    "print('pred : ',predictions)\n",
    "print('Actual : ', y_test)\n",
    "print('accuracy : ',acc)"
   ]
  },
  {
   "cell_type": "code",
   "execution_count": 13,
   "id": "506b6d2b",
   "metadata": {},
   "outputs": [
    {
     "name": "stdout",
     "output_type": "stream",
     "text": [
      "Iris Verginica\n",
      "Iris Verginica\n",
      "Iris Setosa\n",
      "Iris Verginica\n",
      "Iris Setosa\n",
      "Iris Verginica\n",
      "Iris Setosa\n",
      "Iris Versicolor\n",
      "Iris Verginica\n",
      "Iris Setosa\n",
      "Iris Setosa\n",
      "Iris Versicolor\n",
      "Iris Verginica\n",
      "Iris Verginica\n",
      "Iris Versicolor\n",
      "Iris Verginica\n",
      "Iris Versicolor\n",
      "Iris Versicolor\n",
      "Iris Setosa\n",
      "Iris Setosa\n",
      "Iris Setosa\n",
      "Iris Setosa\n",
      "Iris Verginica\n",
      "Iris Setosa\n",
      "Iris Verginica\n",
      "Iris Setosa\n",
      "Iris Verginica\n",
      "Iris Setosa\n",
      "Iris Versicolor\n",
      "Iris Verginica\n"
     ]
    }
   ],
   "source": [
    "for i in range (len(predictions)):\n",
    "    print(classes[predictions[i]])"
   ]
  },
  {
   "cell_type": "code",
   "execution_count": null,
   "id": "5734e8dc",
   "metadata": {},
   "outputs": [],
   "source": []
  }
 ],
 "metadata": {
  "kernelspec": {
   "display_name": "Python 3",
   "language": "python",
   "name": "python3"
  },
  "language_info": {
   "codemirror_mode": {
    "name": "ipython",
    "version": 3
   },
   "file_extension": ".py",
   "mimetype": "text/x-python",
   "name": "python",
   "nbconvert_exporter": "python",
   "pygments_lexer": "ipython3",
   "version": "3.8.8"
  }
 },
 "nbformat": 4,
 "nbformat_minor": 5
}
